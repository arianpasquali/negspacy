{
 "cells": [
  {
   "cell_type": "code",
   "execution_count": 3,
   "metadata": {},
   "outputs": [
    {
     "name": "stdout",
     "output_type": "stream",
     "text": [
      "The autoreload extension is already loaded. To reload it, use:\n",
      "  %reload_ext autoreload\n",
      "Steve Jobs False\n",
      "Apple False\n"
     ]
    }
   ],
   "source": [
    "%load_ext autoreload\n",
    "%autoreload 2\n",
    "\n",
    "import spacy\n",
    "from negspacy.negation import Negex\n",
    "\n",
    "nlp = spacy.load(\"pt_core_news_sm\")\n",
    "negex = Negex(nlp, language=\"en\",  ent_types=[\"PERSON\",\"ORG\"])\n",
    "nlp.add_pipe(negex, last=True, )\n",
    "\n",
    "doc = nlp(\"Ela gosta de Steve Jobs mas não gosta dos produtos da Apple.\")\n",
    "\n",
    "for e in doc.ents:\n",
    "    print(e.text, e._.negex)"
   ]
  },
  {
   "cell_type": "code",
   "execution_count": 4,
   "metadata": {},
   "outputs": [
    {
     "data": {
      "text/plain": [
       "'2.2.4'"
      ]
     },
     "execution_count": 4,
     "metadata": {},
     "output_type": "execute_result"
    }
   ],
   "source": [
    "import spacy\n",
    "spacy.__version__"
   ]
  },
  {
   "cell_type": "code",
   "execution_count": 6,
   "metadata": {},
   "outputs": [],
   "source": [
    "#!spacy download pt"
   ]
  },
  {
   "cell_type": "code",
   "execution_count": null,
   "metadata": {},
   "outputs": [],
   "source": []
  },
  {
   "cell_type": "code",
   "execution_count": 7,
   "metadata": {},
   "outputs": [
    {
     "name": "stdout",
     "output_type": "stream",
     "text": [
      "/home/arian/Developer/workspace/liaad/mine4health/nlp-demo-ipo/negspacy_\n"
     ]
    }
   ],
   "source": [
    "!pwd"
   ]
  },
  {
   "cell_type": "code",
   "execution_count": 8,
   "metadata": {},
   "outputs": [
    {
     "name": "stdout",
     "output_type": "stream",
     "text": [
      "Steve Jobs False\n",
      "Apple False\n"
     ]
    }
   ],
   "source": [
    "doc = nlp(\"Ela gosta de Steve Jobs mas não gosta dos produtos da Apple.\")\n",
    "\n",
    "for e in doc.ents:\n",
    "    print(e.text, e._.negex)"
   ]
  },
  {
   "cell_type": "code",
   "execution_count": 10,
   "metadata": {},
   "outputs": [
    {
     "name": "stdout",
     "output_type": "stream",
     "text": [
      "Loading from ../ipo_ner_pt.model\n"
     ]
    }
   ],
   "source": [
    "# test the saved model\n",
    "output_dir=\"../ipo_ner_pt.model\"\n",
    "print(\"Loading from\", output_dir)\n",
    "nlp_medical_pt = spacy.load(output_dir)\n",
    "\n",
    "negex = Negex(nlp, language=\"pt\",  ent_types=[\"Disorders\"])\n",
    "nlp_medical_pt.add_pipe(negex, last=True, )\n",
    "\n"
   ]
  },
  {
   "cell_type": "code",
   "execution_count": 11,
   "metadata": {},
   "outputs": [
    {
     "name": "stdout",
     "output_type": "stream",
     "text": [
      "/home/arian/Developer/workspace/liaad/mine4health/nlp-demo-ipo/negspacy_\n"
     ]
    }
   ],
   "source": [
    "!pwd"
   ]
  },
  {
   "cell_type": "code",
   "execution_count": 12,
   "metadata": {},
   "outputs": [
    {
     "name": "stdout",
     "output_type": "stream",
     "text": [
      "-------------------------\n",
      "Dor nas costas, mas nega dor abdominal , febre , anorexia , emagrecimento , perdas hemáticas evidentes e tosse seca. \n",
      "\t Presença :  Dor (Disorders)\n",
      "\t Ausência :  dor abdominal (Disorders)\n",
      "\t Ausência :  anorexia (Disorders)\n",
      "\t Ausência :  emagrecimento (Disorders)\n",
      "\t Ausência :  tosse seca (Disorders)\n",
      "-------------------------\n",
      "Sem adenopatias supraclaviculares palpáveis .\n",
      "\t Ausência :  adenopatias (Disorders)\n",
      "-------------------------\n",
      "Sectorectomia hepática lateral esquerda por via laparoscópica por provavel adenoma ( pós embolização simples)\n",
      "\t Presença :  Sectorectomia (Procedures)\n",
      "\t Presença :  via laparoscópica (Procedures)\n",
      "\t Presença :  adenoma (Disorders)\n",
      "\t Presença :  embolização (Procedures)\n",
      "-------------------------\n",
      "Histologia definitiva :  Lesão hepatocelular benigna , provável adenoma\n",
      "\t Presença :  Histologia (Procedures)\n",
      "\t Presença :  Lesão hepatocelular (Disorders)\n",
      "\t Presença :  adenoma (Disorders)\n",
      "-------------------------\n",
      "Tolerou dieta liquida apesar de nauseas ligeiras á noite que cedeu com o esomeprazol ( intolerância á lactose) .\n",
      "\t Presença :  esomeprazol (Chemicals & Drugs)\n",
      "\t Presença :  intolerância á lactose (Disorders)\n",
      "-------------------------\n",
      "Normotensa e sem taquicardia .\n",
      "\t Ausência :  taquicardia (Disorders)\n",
      "-------------------------\n",
      "Benjaminliticamente : - Hb=12.4g/dl ; Sem leucocitose nem neutrofilia;\n",
      "\t Ausência :  leucocitose (Disorders)\n",
      "\t Ausência :  neutrofilia (Disorders)\n"
     ]
    }
   ],
   "source": [
    "test_set = [\n",
    "    \"Dor nas costas, mas nega dor abdominal , febre , anorexia , emagrecimento , perdas hemáticas evidentes e tosse seca. \",\n",
    "    \"Sem adenopatias supraclaviculares palpáveis .\",\n",
    "    \"Sectorectomia hepática lateral esquerda por via laparoscópica por provavel adenoma ( pós embolização simples)\",\n",
    "    \"Histologia definitiva :  Lesão hepatocelular benigna , provável adenoma\",\n",
    "    \"Tolerou dieta liquida apesar de nauseas ligeiras á noite que cedeu com o esomeprazol ( intolerância á lactose) .\",\n",
    "    \"Normotensa e sem taquicardia .\",\n",
    "    \"Benjaminliticamente : - Hb=12.4g/dl ; Sem leucocitose nem neutrofilia;\"\n",
    "]\n",
    "\n",
    "for test_sample in test_set:\n",
    "    print(\"-------------------------\")\n",
    "    print(test_sample)\n",
    "    doc = nlp_medical_pt(test_sample)\n",
    "\n",
    "#     print(\"Entities\", [(ent.text, ent.label_) for ent in doc.ents])\n",
    "#print(\"Tokens\", [(t.text, t.ent_type_, t.ent_iob) for t in doc])\n",
    "    for e in doc.ents:\n",
    "        print(\"\\t\",\"Ausência : \" if e._.negex else \"Presença : \", e.text , f\"({e.label_})\")"
   ]
  },
  {
   "cell_type": "code",
   "execution_count": 13,
   "metadata": {},
   "outputs": [
    {
     "name": "stdout",
     "output_type": "stream",
     "text": [
      "Ausência leucocitose Disorders\n",
      "Ausência neutrofilia Disorders\n"
     ]
    }
   ],
   "source": [
    "\n",
    "for e in doc.ents:\n",
    "    print(\"Ausência\" if e._.negex else \"Presença\", e.text , e.label_)"
   ]
  },
  {
   "cell_type": "code",
   "execution_count": null,
   "metadata": {},
   "outputs": [],
   "source": []
  }
 ],
 "metadata": {
  "kernelspec": {
   "display_name": "Python 3",
   "language": "python",
   "name": "python3"
  },
  "language_info": {
   "codemirror_mode": {
    "name": "ipython",
    "version": 3
   },
   "file_extension": ".py",
   "mimetype": "text/x-python",
   "name": "python",
   "nbconvert_exporter": "python",
   "pygments_lexer": "ipython3",
   "version": "3.6.12"
  }
 },
 "nbformat": 4,
 "nbformat_minor": 4
}
